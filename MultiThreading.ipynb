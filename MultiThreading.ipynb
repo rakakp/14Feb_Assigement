{
 "cells": [
  {
   "cell_type": "code",
   "execution_count": 1,
   "id": "609d88ab-59b2-43b6-bf54-df87a365057d",
   "metadata": {},
   "outputs": [
    {
     "name": "stdout",
     "output_type": "stream",
     "text": [
      "Square of number 0 is 0 \n",
      "Square of number 1 is 1 \n",
      "Square of number 2 is 4 \n",
      "Square of number 3 is 9 \n",
      "Square of number 4 is 16 \n",
      "Square of number 5 is 25 \n",
      "Square of number 6 is 36 \n",
      "Square of number 7 is 49 \n",
      "Square of number 8 is 64 \n",
      "Square of number 9 is 81 \n",
      "Cubes of number 0 is 0 \n",
      "Cubes of number 1 is 1 \n",
      "Cubes of number 2 is 8 \n",
      "Cubes of number 3 is 27 \n",
      "Cubes of number 4 is 64 \n",
      "Cubes of number 5 is 125 \n",
      "Cubes of number 6 is 216 \n",
      "Cubes of number 7 is 343 \n",
      "Cubes of number 8 is 512 \n",
      "Cubes of number 9 is 729 \n"
     ]
    },
    {
     "data": {
      "text/plain": [
       "' Q6\\n\\nDeadlock\\nWhen two processes are waiting for each other directly or indirectly, it is called deadlock.\\nThis usually occurs when two processes are waiting for shared resources acquired by others\\nRace condition\\nWhen two processes are competing with each other causing data corruption.\\n'"
      ]
     },
     "execution_count": 1,
     "metadata": {},
     "output_type": "execute_result"
    }
   ],
   "source": [
    "''' Q1\n",
    "what is multithreading in python? hy is it used? Name the module used to handle threads in python\n",
    "Multithreading refers to concurrently executing multiple threads by rapidly switching the control of the CPU between threads (called context switching).\n",
    "It is used to effcetively use the system resources and to speed up the program execution\n",
    "module is : threading and Threads\n",
    "'''\n",
    "\n",
    "''' Q2\n",
    "A thread is a separate flow of execution. This means that your program will have two things happening at once. But for most Python 3 implementations the different threads do not actually execute at the same time: they merely appear to.\n",
    "threading.activeCount() − Returns the number of thread objects that are active. \n",
    "threading.currentThread() − Returns the number of thread objects in the caller's thread control\n",
    "threading.enumerate() − Returns a list of all thread objects that are currently active.\n",
    "'''\n",
    "\n",
    "''' Q3\n",
    "Thread.run() method is an inbuilt method of the Thread class of the threading module in Python.\n",
    "This method is used to represent a thread's activity.\n",
    "To start a thread, we use start method of Thread class.\n",
    "t1.start()\n",
    "t2.start()\n",
    "Once the threads start, the current program (you can think of it like a main thread) also keeps on executing. In order to stop execution of current program until a thread is complete, we use join method.\n",
    "t1.join()\n",
    "t2.join()\n",
    "Thread.is_alive() method is an inbuilt method of the Thread class of the threading module in Python. It uses a Thread object, and checks whether that thread is alive or not, ie, it is still running or not. This method returns True before the run() starts until just after the run() method is executed.\n",
    "print(\"Is thread1 alive:\", t1.is_alive())\n",
    "'''\n",
    "\n",
    "''' Q4 '''\n",
    "import threading\n",
    "def square_num(n):\n",
    "    print(\"Square of number %d is %d \" %(n, n*n))\n",
    "\n",
    "def cubes_num(n):\n",
    "    print(\"Cubes of number %d is %d \" %(n , n*n*n))\n",
    "\t\n",
    "ther1 = [threading.Thread( target=square_num, args = (i,)) for i in range(10) ]\n",
    "ther2 = [threading.Thread( target=cubes_num, args = (i,)) for i in range(10) ]\n",
    "for th in ther1:\n",
    "    th.start()\n",
    "for th in ther2:\n",
    "    th.start()\t\n",
    "\n",
    "''' Q5\n",
    "\n",
    "Following are some of the common advantages of multithreading:\n",
    "    Enhanced performance by decreased development time\n",
    "    Simplified and streamlined program coding\n",
    "    Improvised GUI responsiveness\n",
    "    Simultaneous and parallelized occurrence of tasks\n",
    "    Better use of cache storage by utilization of resources\n",
    "    Decreased cost of maintenance\n",
    "    Better use of CPU resource\n",
    "Multithreading does not only provide you with benefits, it has its disadvantages too. Let us go through some common disadvantages:\n",
    "    Complex debugging and testing processes\n",
    "    Overhead switching of context\n",
    "    Increased potential for deadlock occurrence\n",
    "    Increased difficulty level in writing a program\n",
    "    Unpredictable results\n",
    "'''\n",
    "\n",
    "''' Q6\n",
    "\n",
    "Deadlock\n",
    "When two processes are waiting for each other directly or indirectly, it is called deadlock.\n",
    "This usually occurs when two processes are waiting for shared resources acquired by others\n",
    "Race condition\n",
    "When two processes are competing with each other causing data corruption.\n",
    "'''"
   ]
  },
  {
   "cell_type": "code",
   "execution_count": null,
   "id": "5746464f-e690-477a-be64-f299d57da9e3",
   "metadata": {},
   "outputs": [],
   "source": []
  }
 ],
 "metadata": {
  "kernelspec": {
   "display_name": "Python 3 (ipykernel)",
   "language": "python",
   "name": "python3"
  },
  "language_info": {
   "codemirror_mode": {
    "name": "ipython",
    "version": 3
   },
   "file_extension": ".py",
   "mimetype": "text/x-python",
   "name": "python",
   "nbconvert_exporter": "python",
   "pygments_lexer": "ipython3",
   "version": "3.10.8"
  }
 },
 "nbformat": 4,
 "nbformat_minor": 5
}
